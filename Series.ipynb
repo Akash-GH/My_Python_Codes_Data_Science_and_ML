{
 "cells": [
  {
   "cell_type": "code",
   "execution_count": 1,
   "id": "f4420162",
   "metadata": {},
   "outputs": [],
   "source": [
    "import numpy as np"
   ]
  },
  {
   "cell_type": "code",
   "execution_count": 2,
   "id": "3ba9193d",
   "metadata": {},
   "outputs": [],
   "source": [
    "import pandas as pd"
   ]
  },
  {
   "cell_type": "code",
   "execution_count": 3,
   "id": "cd34b61f",
   "metadata": {},
   "outputs": [],
   "source": [
    "grades = [\"A\",\"B\",\"C\",\"D\"]\n",
    "\n",
    "marks = [1,2,3,4]\n",
    "\n",
    "arr_marks = np.array(marks)\n",
    "\n",
    "d = {\"A\":1,\"B\":2,\"C\":3,\"D\":4}"
   ]
  },
  {
   "cell_type": "code",
   "execution_count": 4,
   "id": "7a44bca1",
   "metadata": {},
   "outputs": [
    {
     "data": {
      "text/plain": [
       "A    1\n",
       "B    2\n",
       "C    3\n",
       "D    4\n",
       "dtype: int32"
      ]
     },
     "execution_count": 4,
     "metadata": {},
     "output_type": "execute_result"
    }
   ],
   "source": [
    "pd.Series(data = arr_marks,index = grades)"
   ]
  },
  {
   "cell_type": "code",
   "execution_count": 5,
   "id": "a0bc9759",
   "metadata": {},
   "outputs": [
    {
     "data": {
      "text/plain": [
       "A    1\n",
       "B    2\n",
       "C    3\n",
       "D    4\n",
       "dtype: int32"
      ]
     },
     "execution_count": 5,
     "metadata": {},
     "output_type": "execute_result"
    }
   ],
   "source": [
    "pd.Series(arr_marks,grades)"
   ]
  },
  {
   "cell_type": "code",
   "execution_count": 6,
   "id": "cf1647eb",
   "metadata": {},
   "outputs": [
    {
     "data": {
      "text/plain": [
       "A    1\n",
       "B    2\n",
       "C    3\n",
       "D    4\n",
       "dtype: int64"
      ]
     },
     "execution_count": 6,
     "metadata": {},
     "output_type": "execute_result"
    }
   ],
   "source": [
    "pd.Series(marks,grades)"
   ]
  },
  {
   "cell_type": "code",
   "execution_count": 8,
   "id": "dc49ab77",
   "metadata": {},
   "outputs": [
    {
     "data": {
      "text/plain": [
       "A    1\n",
       "B    2\n",
       "C    3\n",
       "D    4\n",
       "dtype: int64"
      ]
     },
     "execution_count": 8,
     "metadata": {},
     "output_type": "execute_result"
    }
   ],
   "source": [
    "pd.Series(data = marks,index = grades)"
   ]
  },
  {
   "cell_type": "code",
   "execution_count": 9,
   "id": "86630e54",
   "metadata": {},
   "outputs": [
    {
     "data": {
      "text/plain": [
       "A    1\n",
       "B    2\n",
       "C    3\n",
       "D    4\n",
       "dtype: int64"
      ]
     },
     "execution_count": 9,
     "metadata": {},
     "output_type": "execute_result"
    }
   ],
   "source": [
    "pd.Series(d)"
   ]
  },
  {
   "cell_type": "code",
   "execution_count": 10,
   "id": "3b79372a",
   "metadata": {},
   "outputs": [
    {
     "data": {
      "text/plain": [
       "0    A\n",
       "1    B\n",
       "2    C\n",
       "3    D\n",
       "dtype: object"
      ]
     },
     "execution_count": 10,
     "metadata": {},
     "output_type": "execute_result"
    }
   ],
   "source": [
    "pd.Series(grades)"
   ]
  },
  {
   "cell_type": "code",
   "execution_count": 11,
   "id": "e6525c7b",
   "metadata": {},
   "outputs": [
    {
     "data": {
      "text/plain": [
       "0    <built-in function print>\n",
       "1      <built-in function sum>\n",
       "2               <class 'bool'>\n",
       "dtype: object"
      ]
     },
     "execution_count": 11,
     "metadata": {},
     "output_type": "execute_result"
    }
   ],
   "source": [
    "pd.Series(data = [print,sum,bool] )"
   ]
  },
  {
   "cell_type": "code",
   "execution_count": 12,
   "id": "e6c18e14",
   "metadata": {},
   "outputs": [],
   "source": [
    "ser1 = pd.Series([1,2,3,4],[\"China\",\"India\",\"USA\",\"Indonesia\"]) "
   ]
  },
  {
   "cell_type": "code",
   "execution_count": 13,
   "id": "74db01a4",
   "metadata": {},
   "outputs": [
    {
     "data": {
      "text/plain": [
       "China        1\n",
       "India        2\n",
       "USA          3\n",
       "Indonesia    4\n",
       "dtype: int64"
      ]
     },
     "execution_count": 13,
     "metadata": {},
     "output_type": "execute_result"
    }
   ],
   "source": [
    "ser1"
   ]
  },
  {
   "cell_type": "code",
   "execution_count": 14,
   "id": "8f748d6c",
   "metadata": {},
   "outputs": [],
   "source": [
    "ser2 = pd.Series([4,5,6,7],[\"China\",\"Japan\",\"USA\",\"USSR\"])"
   ]
  },
  {
   "cell_type": "code",
   "execution_count": 15,
   "id": "94a4cf07",
   "metadata": {},
   "outputs": [
    {
     "data": {
      "text/plain": [
       "China    4\n",
       "Japan    5\n",
       "USA      6\n",
       "USSR     7\n",
       "dtype: int64"
      ]
     },
     "execution_count": 15,
     "metadata": {},
     "output_type": "execute_result"
    }
   ],
   "source": [
    "ser2"
   ]
  },
  {
   "cell_type": "code",
   "execution_count": 16,
   "id": "9fbfc7a0",
   "metadata": {},
   "outputs": [
    {
     "data": {
      "text/plain": [
       "China        5.0\n",
       "India        NaN\n",
       "Indonesia    NaN\n",
       "Japan        NaN\n",
       "USA          9.0\n",
       "USSR         NaN\n",
       "dtype: float64"
      ]
     },
     "execution_count": 16,
     "metadata": {},
     "output_type": "execute_result"
    }
   ],
   "source": [
    "ser1 + ser2"
   ]
  },
  {
   "cell_type": "code",
   "execution_count": null,
   "id": "38d5436c",
   "metadata": {},
   "outputs": [],
   "source": []
  }
 ],
 "metadata": {
  "kernelspec": {
   "display_name": "Python 3 (ipykernel)",
   "language": "python",
   "name": "python3"
  },
  "language_info": {
   "codemirror_mode": {
    "name": "ipython",
    "version": 3
   },
   "file_extension": ".py",
   "mimetype": "text/x-python",
   "name": "python",
   "nbconvert_exporter": "python",
   "pygments_lexer": "ipython3",
   "version": "3.10.9"
  }
 },
 "nbformat": 4,
 "nbformat_minor": 5
}
