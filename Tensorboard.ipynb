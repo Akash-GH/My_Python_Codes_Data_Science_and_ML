{
 "cells": [
  {
   "cell_type": "code",
   "execution_count": 1,
   "id": "15b78d7a",
   "metadata": {},
   "outputs": [],
   "source": [
    "import pandas as pd\n",
    "import numpy as np"
   ]
  },
  {
   "cell_type": "code",
   "execution_count": 2,
   "id": "cc76b0cd",
   "metadata": {},
   "outputs": [
    {
     "data": {
      "text/plain": [
       "'C:\\\\Users\\\\akash mishra\\\\Desktop\\\\My Data Science and Machine Learning\\\\My DS & ML Notebooks'"
      ]
     },
     "execution_count": 2,
     "metadata": {},
     "output_type": "execute_result"
    }
   ],
   "source": [
    "pwd"
   ]
  },
  {
   "cell_type": "code",
   "execution_count": 3,
   "id": "93120a69",
   "metadata": {},
   "outputs": [],
   "source": [
    "df = pd.read_csv('C:\\\\Users\\\\akash mishra\\\\Desktop\\\\My Data Science and Machine Learning\\\\TensorFlow_FILES\\\\DATA\\\\cancer_classification.csv')"
   ]
  },
  {
   "cell_type": "code",
   "execution_count": 4,
   "id": "02619499",
   "metadata": {},
   "outputs": [],
   "source": [
    "X = df.drop('benign_0__mal_1',axis=1).values\n",
    "y = df['benign_0__mal_1'].values"
   ]
  },
  {
   "cell_type": "code",
   "execution_count": 5,
   "id": "f0b785c0",
   "metadata": {},
   "outputs": [],
   "source": [
    "from sklearn.model_selection import train_test_split"
   ]
  },
  {
   "cell_type": "code",
   "execution_count": 6,
   "id": "472e45d5",
   "metadata": {},
   "outputs": [],
   "source": [
    "X_train, X_test, y_train, y_test = train_test_split(X,y,test_size=0.25,random_state=101)"
   ]
  },
  {
   "cell_type": "code",
   "execution_count": 7,
   "id": "15e59839",
   "metadata": {},
   "outputs": [],
   "source": [
    "from sklearn.preprocessing import MinMaxScaler"
   ]
  },
  {
   "cell_type": "code",
   "execution_count": 8,
   "id": "b031a5e6",
   "metadata": {},
   "outputs": [],
   "source": [
    "scaler = MinMaxScaler()"
   ]
  },
  {
   "cell_type": "code",
   "execution_count": 9,
   "id": "55418d4f",
   "metadata": {},
   "outputs": [
    {
     "data": {
      "text/html": [
       "<style>#sk-container-id-1 {color: black;background-color: white;}#sk-container-id-1 pre{padding: 0;}#sk-container-id-1 div.sk-toggleable {background-color: white;}#sk-container-id-1 label.sk-toggleable__label {cursor: pointer;display: block;width: 100%;margin-bottom: 0;padding: 0.3em;box-sizing: border-box;text-align: center;}#sk-container-id-1 label.sk-toggleable__label-arrow:before {content: \"▸\";float: left;margin-right: 0.25em;color: #696969;}#sk-container-id-1 label.sk-toggleable__label-arrow:hover:before {color: black;}#sk-container-id-1 div.sk-estimator:hover label.sk-toggleable__label-arrow:before {color: black;}#sk-container-id-1 div.sk-toggleable__content {max-height: 0;max-width: 0;overflow: hidden;text-align: left;background-color: #f0f8ff;}#sk-container-id-1 div.sk-toggleable__content pre {margin: 0.2em;color: black;border-radius: 0.25em;background-color: #f0f8ff;}#sk-container-id-1 input.sk-toggleable__control:checked~div.sk-toggleable__content {max-height: 200px;max-width: 100%;overflow: auto;}#sk-container-id-1 input.sk-toggleable__control:checked~label.sk-toggleable__label-arrow:before {content: \"▾\";}#sk-container-id-1 div.sk-estimator input.sk-toggleable__control:checked~label.sk-toggleable__label {background-color: #d4ebff;}#sk-container-id-1 div.sk-label input.sk-toggleable__control:checked~label.sk-toggleable__label {background-color: #d4ebff;}#sk-container-id-1 input.sk-hidden--visually {border: 0;clip: rect(1px 1px 1px 1px);clip: rect(1px, 1px, 1px, 1px);height: 1px;margin: -1px;overflow: hidden;padding: 0;position: absolute;width: 1px;}#sk-container-id-1 div.sk-estimator {font-family: monospace;background-color: #f0f8ff;border: 1px dotted black;border-radius: 0.25em;box-sizing: border-box;margin-bottom: 0.5em;}#sk-container-id-1 div.sk-estimator:hover {background-color: #d4ebff;}#sk-container-id-1 div.sk-parallel-item::after {content: \"\";width: 100%;border-bottom: 1px solid gray;flex-grow: 1;}#sk-container-id-1 div.sk-label:hover label.sk-toggleable__label {background-color: #d4ebff;}#sk-container-id-1 div.sk-serial::before {content: \"\";position: absolute;border-left: 1px solid gray;box-sizing: border-box;top: 0;bottom: 0;left: 50%;z-index: 0;}#sk-container-id-1 div.sk-serial {display: flex;flex-direction: column;align-items: center;background-color: white;padding-right: 0.2em;padding-left: 0.2em;position: relative;}#sk-container-id-1 div.sk-item {position: relative;z-index: 1;}#sk-container-id-1 div.sk-parallel {display: flex;align-items: stretch;justify-content: center;background-color: white;position: relative;}#sk-container-id-1 div.sk-item::before, #sk-container-id-1 div.sk-parallel-item::before {content: \"\";position: absolute;border-left: 1px solid gray;box-sizing: border-box;top: 0;bottom: 0;left: 50%;z-index: -1;}#sk-container-id-1 div.sk-parallel-item {display: flex;flex-direction: column;z-index: 1;position: relative;background-color: white;}#sk-container-id-1 div.sk-parallel-item:first-child::after {align-self: flex-end;width: 50%;}#sk-container-id-1 div.sk-parallel-item:last-child::after {align-self: flex-start;width: 50%;}#sk-container-id-1 div.sk-parallel-item:only-child::after {width: 0;}#sk-container-id-1 div.sk-dashed-wrapped {border: 1px dashed gray;margin: 0 0.4em 0.5em 0.4em;box-sizing: border-box;padding-bottom: 0.4em;background-color: white;}#sk-container-id-1 div.sk-label label {font-family: monospace;font-weight: bold;display: inline-block;line-height: 1.2em;}#sk-container-id-1 div.sk-label-container {text-align: center;}#sk-container-id-1 div.sk-container {/* jupyter's `normalize.less` sets `[hidden] { display: none; }` but bootstrap.min.css set `[hidden] { display: none !important; }` so we also need the `!important` here to be able to override the default hidden behavior on the sphinx rendered scikit-learn.org. See: https://github.com/scikit-learn/scikit-learn/issues/21755 */display: inline-block !important;position: relative;}#sk-container-id-1 div.sk-text-repr-fallback {display: none;}</style><div id=\"sk-container-id-1\" class=\"sk-top-container\"><div class=\"sk-text-repr-fallback\"><pre>MinMaxScaler()</pre><b>In a Jupyter environment, please rerun this cell to show the HTML representation or trust the notebook. <br />On GitHub, the HTML representation is unable to render, please try loading this page with nbviewer.org.</b></div><div class=\"sk-container\" hidden><div class=\"sk-item\"><div class=\"sk-estimator sk-toggleable\"><input class=\"sk-toggleable__control sk-hidden--visually\" id=\"sk-estimator-id-1\" type=\"checkbox\" checked><label for=\"sk-estimator-id-1\" class=\"sk-toggleable__label sk-toggleable__label-arrow\">MinMaxScaler</label><div class=\"sk-toggleable__content\"><pre>MinMaxScaler()</pre></div></div></div></div></div>"
      ],
      "text/plain": [
       "MinMaxScaler()"
      ]
     },
     "execution_count": 9,
     "metadata": {},
     "output_type": "execute_result"
    }
   ],
   "source": [
    "scaler.fit(X_train)"
   ]
  },
  {
   "cell_type": "code",
   "execution_count": 10,
   "id": "d83b2780",
   "metadata": {},
   "outputs": [],
   "source": [
    "X_train = scaler.transform(X_train)\n",
    "X_test = scaler.transform(X_test)"
   ]
  },
  {
   "cell_type": "code",
   "execution_count": 11,
   "id": "ad6afaae",
   "metadata": {},
   "outputs": [],
   "source": [
    "import tensorflow as tf\n",
    "from tensorflow.keras.models import Sequential\n",
    "from tensorflow.keras.layers import Dense, Activation,Dropout"
   ]
  },
  {
   "cell_type": "code",
   "execution_count": 12,
   "id": "b52dff50",
   "metadata": {},
   "outputs": [],
   "source": [
    "from tensorflow.keras.callbacks import EarlyStopping,TensorBoard"
   ]
  },
  {
   "cell_type": "code",
   "execution_count": 13,
   "id": "51443012",
   "metadata": {},
   "outputs": [],
   "source": [
    "early_stop = EarlyStopping(monitor='val_loss', mode='min', verbose=1, patience=25)"
   ]
  },
  {
   "cell_type": "code",
   "execution_count": 14,
   "id": "1c1674ca",
   "metadata": {},
   "outputs": [
    {
     "data": {
      "text/plain": [
       "'C:\\\\Users\\\\akash mishra\\\\Desktop\\\\My Data Science and Machine Learning\\\\My DS & ML Notebooks'"
      ]
     },
     "execution_count": 14,
     "metadata": {},
     "output_type": "execute_result"
    }
   ],
   "source": [
    "pwd"
   ]
  },
  {
   "cell_type": "code",
   "execution_count": 15,
   "id": "74d2ad41",
   "metadata": {},
   "outputs": [],
   "source": [
    "from datetime import datetime"
   ]
  },
  {
   "cell_type": "code",
   "execution_count": 16,
   "id": "c959680b",
   "metadata": {},
   "outputs": [
    {
     "data": {
      "text/plain": [
       "'2023-07-27--1115'"
      ]
     },
     "execution_count": 16,
     "metadata": {},
     "output_type": "execute_result"
    }
   ],
   "source": [
    "datetime.now().strftime(\"%Y-%m-%d--%H%M\")"
   ]
  },
  {
   "cell_type": "code",
   "execution_count": 17,
   "id": "91f704a4",
   "metadata": {},
   "outputs": [],
   "source": [
    "log_directory = 'logs\\\\fit'"
   ]
  },
  {
   "cell_type": "code",
   "execution_count": 18,
   "id": "30bd5d3b",
   "metadata": {},
   "outputs": [],
   "source": [
    "timestamp = datetime.now().strftime(\"%Y-%m-%d--%H%M\")\n",
    "log_directory = log_directory + '\\\\' + timestamp"
   ]
  },
  {
   "cell_type": "code",
   "execution_count": 19,
   "id": "67fa34e9",
   "metadata": {},
   "outputs": [],
   "source": [
    "board = TensorBoard(log_dir=log_directory,histogram_freq=1,\n",
    "    write_graph=True,\n",
    "    write_images=True,\n",
    "    update_freq='epoch',\n",
    "    profile_batch=2,\n",
    "    embeddings_freq=1)"
   ]
  },
  {
   "cell_type": "code",
   "execution_count": 21,
   "id": "ad1e2507",
   "metadata": {},
   "outputs": [
    {
     "data": {
      "text/plain": [
       "(426, 30)"
      ]
     },
     "execution_count": 21,
     "metadata": {},
     "output_type": "execute_result"
    }
   ],
   "source": [
    "X_train.shape"
   ]
  },
  {
   "cell_type": "code",
   "execution_count": 22,
   "id": "06dbc4f1",
   "metadata": {},
   "outputs": [],
   "source": [
    "model = Sequential()\n",
    "\n",
    "model.add(Dense(units=30,activation='relu'))\n",
    "model.add(Dropout(0.5))\n",
    "\n",
    "model.add(Dense(units=15,activation='relu'))\n",
    "model.add(Dropout(0.5))\n",
    "\n",
    "model.add(Dense(units=1,activation='sigmoid'))\n",
    "\n",
    "model.compile(loss='binary_crossentropy', optimizer='adam')"
   ]
  },
  {
   "cell_type": "code",
   "execution_count": 23,
   "id": "8cdcf673",
   "metadata": {},
   "outputs": [
    {
     "name": "stdout",
     "output_type": "stream",
     "text": [
      "Epoch 1/600\n",
      "14/14 [==============================] - 7s 211ms/step - loss: 0.7176 - val_loss: 0.6697\n",
      "Epoch 2/600\n",
      "14/14 [==============================] - 1s 57ms/step - loss: 0.6702 - val_loss: 0.6554\n",
      "Epoch 3/600\n",
      "14/14 [==============================] - 1s 55ms/step - loss: 0.6657 - val_loss: 0.6401\n",
      "Epoch 4/600\n",
      "14/14 [==============================] - 1s 55ms/step - loss: 0.6352 - val_loss: 0.6212\n",
      "Epoch 5/600\n",
      "14/14 [==============================] - 1s 54ms/step - loss: 0.6316 - val_loss: 0.5989\n",
      "Epoch 6/600\n",
      "14/14 [==============================] - 1s 59ms/step - loss: 0.6167 - val_loss: 0.5773\n",
      "Epoch 7/600\n",
      "14/14 [==============================] - 1s 48ms/step - loss: 0.5996 - val_loss: 0.5514\n",
      "Epoch 8/600\n",
      "14/14 [==============================] - 1s 44ms/step - loss: 0.5697 - val_loss: 0.5270\n",
      "Epoch 9/600\n",
      "14/14 [==============================] - 1s 44ms/step - loss: 0.5513 - val_loss: 0.4998\n",
      "Epoch 10/600\n",
      "14/14 [==============================] - 1s 48ms/step - loss: 0.5231 - val_loss: 0.4707\n",
      "Epoch 11/600\n",
      "14/14 [==============================] - 1s 54ms/step - loss: 0.4961 - val_loss: 0.4423\n",
      "Epoch 12/600\n",
      "14/14 [==============================] - 1s 49ms/step - loss: 0.4856 - val_loss: 0.4104\n",
      "Epoch 13/600\n",
      "14/14 [==============================] - 1s 42ms/step - loss: 0.4655 - val_loss: 0.3840\n",
      "Epoch 14/600\n",
      "14/14 [==============================] - 1s 45ms/step - loss: 0.4367 - val_loss: 0.3513\n",
      "Epoch 15/600\n",
      "14/14 [==============================] - 1s 48ms/step - loss: 0.4105 - val_loss: 0.3228\n",
      "Epoch 16/600\n",
      "14/14 [==============================] - 1s 50ms/step - loss: 0.3913 - val_loss: 0.3028\n",
      "Epoch 17/600\n",
      "14/14 [==============================] - 1s 44ms/step - loss: 0.3715 - val_loss: 0.2828\n",
      "Epoch 18/600\n",
      "14/14 [==============================] - 1s 45ms/step - loss: 0.3893 - val_loss: 0.2713\n",
      "Epoch 19/600\n",
      "14/14 [==============================] - 1s 44ms/step - loss: 0.3561 - val_loss: 0.2565\n",
      "Epoch 20/600\n",
      "14/14 [==============================] - 1s 42ms/step - loss: 0.3257 - val_loss: 0.2431\n",
      "Epoch 21/600\n",
      "14/14 [==============================] - 1s 47ms/step - loss: 0.3331 - val_loss: 0.2295\n",
      "Epoch 22/600\n",
      "14/14 [==============================] - 1s 50ms/step - loss: 0.3244 - val_loss: 0.2171\n",
      "Epoch 23/600\n",
      "14/14 [==============================] - 1s 48ms/step - loss: 0.3023 - val_loss: 0.2111\n",
      "Epoch 24/600\n",
      "14/14 [==============================] - 1s 50ms/step - loss: 0.2670 - val_loss: 0.1990\n",
      "Epoch 25/600\n",
      "14/14 [==============================] - 1s 46ms/step - loss: 0.2697 - val_loss: 0.1870\n",
      "Epoch 26/600\n",
      "14/14 [==============================] - 1s 55ms/step - loss: 0.2647 - val_loss: 0.1778\n",
      "Epoch 27/600\n",
      "14/14 [==============================] - 1s 45ms/step - loss: 0.2679 - val_loss: 0.1698\n",
      "Epoch 28/600\n",
      "14/14 [==============================] - 1s 53ms/step - loss: 0.2327 - val_loss: 0.1636\n",
      "Epoch 29/600\n",
      "14/14 [==============================] - 1s 42ms/step - loss: 0.2619 - val_loss: 0.1599\n",
      "Epoch 30/600\n",
      "14/14 [==============================] - 1s 50ms/step - loss: 0.2344 - val_loss: 0.1524\n",
      "Epoch 31/600\n",
      "14/14 [==============================] - 1s 45ms/step - loss: 0.2350 - val_loss: 0.1504\n",
      "Epoch 32/600\n",
      "14/14 [==============================] - 1s 49ms/step - loss: 0.2333 - val_loss: 0.1450\n",
      "Epoch 33/600\n",
      "14/14 [==============================] - 1s 49ms/step - loss: 0.2201 - val_loss: 0.1459\n",
      "Epoch 34/600\n",
      "14/14 [==============================] - 1s 46ms/step - loss: 0.2134 - val_loss: 0.1371\n",
      "Epoch 35/600\n",
      "14/14 [==============================] - 1s 46ms/step - loss: 0.2158 - val_loss: 0.1376\n",
      "Epoch 36/600\n",
      "14/14 [==============================] - 1s 53ms/step - loss: 0.2185 - val_loss: 0.1414\n",
      "Epoch 37/600\n",
      "14/14 [==============================] - 1s 65ms/step - loss: 0.2023 - val_loss: 0.1298\n",
      "Epoch 38/600\n",
      "14/14 [==============================] - 1s 48ms/step - loss: 0.2087 - val_loss: 0.1273\n",
      "Epoch 39/600\n",
      "14/14 [==============================] - 1s 49ms/step - loss: 0.1903 - val_loss: 0.1318\n",
      "Epoch 40/600\n",
      "14/14 [==============================] - 1s 42ms/step - loss: 0.1931 - val_loss: 0.1195\n",
      "Epoch 41/600\n",
      "14/14 [==============================] - 1s 81ms/step - loss: 0.1792 - val_loss: 0.1206\n",
      "Epoch 42/600\n",
      "14/14 [==============================] - 1s 54ms/step - loss: 0.1968 - val_loss: 0.1202\n",
      "Epoch 43/600\n",
      "14/14 [==============================] - 1s 49ms/step - loss: 0.1780 - val_loss: 0.1184\n",
      "Epoch 44/600\n",
      "14/14 [==============================] - 1s 54ms/step - loss: 0.1661 - val_loss: 0.1121\n",
      "Epoch 45/600\n",
      "14/14 [==============================] - 1s 49ms/step - loss: 0.1732 - val_loss: 0.1130\n",
      "Epoch 46/600\n",
      "14/14 [==============================] - 1s 46ms/step - loss: 0.1484 - val_loss: 0.1114\n",
      "Epoch 47/600\n",
      "14/14 [==============================] - 1s 43ms/step - loss: 0.1541 - val_loss: 0.1086\n",
      "Epoch 48/600\n",
      "14/14 [==============================] - 1s 41ms/step - loss: 0.1510 - val_loss: 0.1063\n",
      "Epoch 49/600\n",
      "14/14 [==============================] - 1s 44ms/step - loss: 0.1771 - val_loss: 0.1139\n",
      "Epoch 50/600\n",
      "14/14 [==============================] - 1s 47ms/step - loss: 0.1509 - val_loss: 0.1060\n",
      "Epoch 51/600\n",
      "14/14 [==============================] - 1s 51ms/step - loss: 0.1844 - val_loss: 0.1080\n",
      "Epoch 52/600\n",
      "14/14 [==============================] - 1s 46ms/step - loss: 0.1654 - val_loss: 0.1065\n",
      "Epoch 53/600\n",
      "14/14 [==============================] - 1s 59ms/step - loss: 0.1672 - val_loss: 0.1061\n",
      "Epoch 54/600\n",
      "14/14 [==============================] - 1s 61ms/step - loss: 0.1445 - val_loss: 0.1096\n",
      "Epoch 55/600\n",
      "14/14 [==============================] - 1s 47ms/step - loss: 0.1497 - val_loss: 0.1044\n",
      "Epoch 56/600\n",
      "14/14 [==============================] - 1s 45ms/step - loss: 0.1496 - val_loss: 0.1095\n",
      "Epoch 57/600\n",
      "14/14 [==============================] - 1s 50ms/step - loss: 0.1535 - val_loss: 0.0971\n",
      "Epoch 58/600\n",
      "14/14 [==============================] - 1s 53ms/step - loss: 0.1390 - val_loss: 0.0979\n",
      "Epoch 59/600\n",
      "14/14 [==============================] - 1s 51ms/step - loss: 0.1466 - val_loss: 0.0981\n",
      "Epoch 60/600\n",
      "14/14 [==============================] - 1s 55ms/step - loss: 0.1250 - val_loss: 0.1000\n",
      "Epoch 61/600\n",
      "14/14 [==============================] - 1s 52ms/step - loss: 0.1473 - val_loss: 0.1059\n",
      "Epoch 62/600\n",
      "14/14 [==============================] - 1s 54ms/step - loss: 0.1279 - val_loss: 0.0938\n",
      "Epoch 63/600\n",
      "14/14 [==============================] - 1s 49ms/step - loss: 0.1357 - val_loss: 0.0988\n",
      "Epoch 64/600\n",
      "14/14 [==============================] - 1s 68ms/step - loss: 0.1261 - val_loss: 0.0950\n",
      "Epoch 65/600\n",
      "14/14 [==============================] - 1s 49ms/step - loss: 0.1147 - val_loss: 0.0967\n",
      "Epoch 66/600\n",
      "14/14 [==============================] - 1s 52ms/step - loss: 0.1340 - val_loss: 0.0985\n",
      "Epoch 67/600\n",
      "14/14 [==============================] - 1s 51ms/step - loss: 0.1385 - val_loss: 0.0975\n",
      "Epoch 68/600\n",
      "14/14 [==============================] - 1s 51ms/step - loss: 0.1308 - val_loss: 0.1068\n",
      "Epoch 69/600\n",
      "14/14 [==============================] - 1s 63ms/step - loss: 0.1167 - val_loss: 0.0961\n",
      "Epoch 70/600\n",
      "14/14 [==============================] - 1s 49ms/step - loss: 0.1153 - val_loss: 0.0924\n",
      "Epoch 71/600\n",
      "14/14 [==============================] - 1s 51ms/step - loss: 0.1364 - val_loss: 0.1137\n",
      "Epoch 72/600\n",
      "14/14 [==============================] - 1s 49ms/step - loss: 0.1249 - val_loss: 0.0919\n",
      "Epoch 73/600\n",
      "14/14 [==============================] - 1s 48ms/step - loss: 0.1209 - val_loss: 0.1004\n",
      "Epoch 74/600\n",
      "14/14 [==============================] - 1s 46ms/step - loss: 0.1304 - val_loss: 0.1004\n",
      "Epoch 75/600\n",
      "14/14 [==============================] - 1s 47ms/step - loss: 0.1194 - val_loss: 0.0935\n",
      "Epoch 76/600\n",
      "14/14 [==============================] - 1s 48ms/step - loss: 0.1169 - val_loss: 0.0864\n",
      "Epoch 77/600\n",
      "14/14 [==============================] - 1s 58ms/step - loss: 0.1289 - val_loss: 0.0903\n",
      "Epoch 78/600\n",
      "14/14 [==============================] - 1s 56ms/step - loss: 0.1054 - val_loss: 0.0926\n",
      "Epoch 79/600\n",
      "14/14 [==============================] - 1s 52ms/step - loss: 0.1147 - val_loss: 0.1043\n",
      "Epoch 80/600\n",
      "14/14 [==============================] - 1s 46ms/step - loss: 0.1402 - val_loss: 0.0875\n",
      "Epoch 81/600\n",
      "14/14 [==============================] - 1s 80ms/step - loss: 0.1050 - val_loss: 0.0998\n",
      "Epoch 82/600\n"
     ]
    },
    {
     "name": "stdout",
     "output_type": "stream",
     "text": [
      "14/14 [==============================] - 1s 49ms/step - loss: 0.0943 - val_loss: 0.0894\n",
      "Epoch 83/600\n",
      "14/14 [==============================] - 1s 52ms/step - loss: 0.0814 - val_loss: 0.0880\n",
      "Epoch 84/600\n",
      "14/14 [==============================] - 1s 44ms/step - loss: 0.1183 - val_loss: 0.0929\n",
      "Epoch 85/600\n",
      "14/14 [==============================] - 1s 51ms/step - loss: 0.1069 - val_loss: 0.0920\n",
      "Epoch 86/600\n",
      "14/14 [==============================] - 1s 48ms/step - loss: 0.1269 - val_loss: 0.0860\n",
      "Epoch 87/600\n",
      "14/14 [==============================] - 1s 53ms/step - loss: 0.1196 - val_loss: 0.0863\n",
      "Epoch 88/600\n",
      "14/14 [==============================] - 1s 68ms/step - loss: 0.1185 - val_loss: 0.1032\n",
      "Epoch 89/600\n",
      "14/14 [==============================] - 1s 44ms/step - loss: 0.1105 - val_loss: 0.0924\n",
      "Epoch 90/600\n",
      "14/14 [==============================] - 1s 44ms/step - loss: 0.0888 - val_loss: 0.0906\n",
      "Epoch 91/600\n",
      "14/14 [==============================] - 1s 44ms/step - loss: 0.1152 - val_loss: 0.1069\n",
      "Epoch 92/600\n",
      "14/14 [==============================] - 1s 45ms/step - loss: 0.1189 - val_loss: 0.0892\n",
      "Epoch 93/600\n",
      "14/14 [==============================] - 1s 49ms/step - loss: 0.0856 - val_loss: 0.0890\n",
      "Epoch 94/600\n",
      "14/14 [==============================] - 1s 48ms/step - loss: 0.1226 - val_loss: 0.1011\n",
      "Epoch 95/600\n",
      "14/14 [==============================] - 1s 45ms/step - loss: 0.1014 - val_loss: 0.0948\n",
      "Epoch 96/600\n",
      "14/14 [==============================] - 1s 48ms/step - loss: 0.1004 - val_loss: 0.0931\n",
      "Epoch 97/600\n",
      "14/14 [==============================] - 1s 49ms/step - loss: 0.1070 - val_loss: 0.1043\n",
      "Epoch 98/600\n",
      "14/14 [==============================] - 1s 48ms/step - loss: 0.0977 - val_loss: 0.0923\n",
      "Epoch 99/600\n",
      "14/14 [==============================] - 1s 53ms/step - loss: 0.1194 - val_loss: 0.0899\n",
      "Epoch 100/600\n",
      "14/14 [==============================] - 1s 43ms/step - loss: 0.1219 - val_loss: 0.0923\n",
      "Epoch 101/600\n",
      "14/14 [==============================] - 1s 54ms/step - loss: 0.0843 - val_loss: 0.0922\n",
      "Epoch 102/600\n",
      "14/14 [==============================] - 1s 61ms/step - loss: 0.0835 - val_loss: 0.0979\n",
      "Epoch 103/600\n",
      "14/14 [==============================] - 1s 49ms/step - loss: 0.1021 - val_loss: 0.0859\n",
      "Epoch 104/600\n",
      "14/14 [==============================] - 1s 47ms/step - loss: 0.0977 - val_loss: 0.0978\n",
      "Epoch 105/600\n",
      "14/14 [==============================] - 1s 51ms/step - loss: 0.1071 - val_loss: 0.1045\n",
      "Epoch 106/600\n",
      "14/14 [==============================] - 1s 51ms/step - loss: 0.0889 - val_loss: 0.0915\n",
      "Epoch 107/600\n",
      "14/14 [==============================] - 1s 50ms/step - loss: 0.0900 - val_loss: 0.0924\n",
      "Epoch 108/600\n",
      "14/14 [==============================] - 1s 48ms/step - loss: 0.1024 - val_loss: 0.0964\n",
      "Epoch 109/600\n",
      "14/14 [==============================] - 1s 46ms/step - loss: 0.0996 - val_loss: 0.0904\n",
      "Epoch 110/600\n",
      "14/14 [==============================] - 1s 48ms/step - loss: 0.1017 - val_loss: 0.0903\n",
      "Epoch 111/600\n",
      "14/14 [==============================] - 1s 51ms/step - loss: 0.1008 - val_loss: 0.1135\n",
      "Epoch 112/600\n",
      "14/14 [==============================] - 1s 48ms/step - loss: 0.1031 - val_loss: 0.1113\n",
      "Epoch 113/600\n",
      "14/14 [==============================] - 1s 73ms/step - loss: 0.0853 - val_loss: 0.0957\n",
      "Epoch 114/600\n",
      "14/14 [==============================] - 1s 49ms/step - loss: 0.0796 - val_loss: 0.0938\n",
      "Epoch 115/600\n",
      "14/14 [==============================] - 1s 49ms/step - loss: 0.0885 - val_loss: 0.0885\n",
      "Epoch 116/600\n",
      "14/14 [==============================] - 1s 79ms/step - loss: 0.0981 - val_loss: 0.0910\n",
      "Epoch 117/600\n",
      "14/14 [==============================] - 1s 50ms/step - loss: 0.0895 - val_loss: 0.0952\n",
      "Epoch 118/600\n",
      "14/14 [==============================] - 1s 43ms/step - loss: 0.0938 - val_loss: 0.0864\n",
      "Epoch 119/600\n",
      "14/14 [==============================] - 1s 46ms/step - loss: 0.1064 - val_loss: 0.0947\n",
      "Epoch 120/600\n",
      "14/14 [==============================] - 1s 50ms/step - loss: 0.0859 - val_loss: 0.0961\n",
      "Epoch 121/600\n",
      "14/14 [==============================] - 1s 45ms/step - loss: 0.0764 - val_loss: 0.0857\n",
      "Epoch 122/600\n",
      "14/14 [==============================] - 1s 43ms/step - loss: 0.0944 - val_loss: 0.0990\n",
      "Epoch 123/600\n",
      "14/14 [==============================] - 1s 47ms/step - loss: 0.0889 - val_loss: 0.0980\n",
      "Epoch 124/600\n",
      "14/14 [==============================] - 1s 49ms/step - loss: 0.0899 - val_loss: 0.0902\n",
      "Epoch 125/600\n",
      "14/14 [==============================] - 1s 44ms/step - loss: 0.0887 - val_loss: 0.0964\n",
      "Epoch 126/600\n",
      "14/14 [==============================] - 1s 49ms/step - loss: 0.0849 - val_loss: 0.1065\n",
      "Epoch 127/600\n",
      "14/14 [==============================] - 1s 47ms/step - loss: 0.0993 - val_loss: 0.1210\n",
      "Epoch 128/600\n",
      "14/14 [==============================] - 1s 44ms/step - loss: 0.0958 - val_loss: 0.0951\n",
      "Epoch 129/600\n",
      "14/14 [==============================] - 1s 49ms/step - loss: 0.0942 - val_loss: 0.0931\n",
      "Epoch 130/600\n",
      "14/14 [==============================] - 1s 44ms/step - loss: 0.0943 - val_loss: 0.0928\n",
      "Epoch 131/600\n",
      "14/14 [==============================] - 1s 47ms/step - loss: 0.0752 - val_loss: 0.0975\n",
      "Epoch 132/600\n",
      "14/14 [==============================] - 1s 46ms/step - loss: 0.0745 - val_loss: 0.0923\n",
      "Epoch 133/600\n",
      "14/14 [==============================] - 1s 47ms/step - loss: 0.0787 - val_loss: 0.0993\n",
      "Epoch 134/600\n",
      "14/14 [==============================] - 1s 47ms/step - loss: 0.0844 - val_loss: 0.0999\n",
      "Epoch 135/600\n",
      "14/14 [==============================] - 1s 49ms/step - loss: 0.0773 - val_loss: 0.0971\n",
      "Epoch 136/600\n",
      "14/14 [==============================] - 1s 46ms/step - loss: 0.0836 - val_loss: 0.0969\n",
      "Epoch 137/600\n",
      "14/14 [==============================] - 1s 63ms/step - loss: 0.0831 - val_loss: 0.1004\n",
      "Epoch 138/600\n",
      "14/14 [==============================] - 1s 52ms/step - loss: 0.0759 - val_loss: 0.0926\n",
      "Epoch 139/600\n",
      "14/14 [==============================] - 1s 50ms/step - loss: 0.1013 - val_loss: 0.0986\n",
      "Epoch 140/600\n",
      "14/14 [==============================] - 1s 51ms/step - loss: 0.0722 - val_loss: 0.0969\n",
      "Epoch 141/600\n",
      "14/14 [==============================] - 1s 49ms/step - loss: 0.0779 - val_loss: 0.0961\n",
      "Epoch 142/600\n",
      "14/14 [==============================] - 1s 58ms/step - loss: 0.0900 - val_loss: 0.1049\n",
      "Epoch 143/600\n",
      "14/14 [==============================] - 1s 51ms/step - loss: 0.0750 - val_loss: 0.0933\n",
      "Epoch 144/600\n",
      "14/14 [==============================] - 1s 51ms/step - loss: 0.0889 - val_loss: 0.0975\n",
      "Epoch 145/600\n",
      "14/14 [==============================] - 1s 47ms/step - loss: 0.0809 - val_loss: 0.1160\n",
      "Epoch 146/600\n",
      "14/14 [==============================] - 1s 46ms/step - loss: 0.0890 - val_loss: 0.0962\n",
      "Epoch 146: early stopping\n"
     ]
    },
    {
     "data": {
      "text/plain": [
       "<keras.src.callbacks.History at 0x167f8ae1ff0>"
      ]
     },
     "execution_count": 23,
     "metadata": {},
     "output_type": "execute_result"
    }
   ],
   "source": [
    "model.fit(x=X_train, \n",
    "          y=y_train, \n",
    "          epochs=600,\n",
    "          validation_data=(X_test, y_test), verbose=1,\n",
    "          callbacks=[early_stop,board]\n",
    "          )"
   ]
  },
  {
   "cell_type": "code",
   "execution_count": 24,
   "id": "a00db3d2",
   "metadata": {},
   "outputs": [
    {
     "name": "stdout",
     "output_type": "stream",
     "text": [
      "logs\\fit\\2023-07-27--1117\n"
     ]
    }
   ],
   "source": [
    "print(log_directory)"
   ]
  },
  {
   "cell_type": "code",
   "execution_count": 25,
   "id": "856febdb",
   "metadata": {},
   "outputs": [
    {
     "data": {
      "text/plain": [
       "'C:\\\\Users\\\\akash mishra\\\\Desktop\\\\My Data Science and Machine Learning\\\\My DS & ML Notebooks'"
      ]
     },
     "execution_count": 25,
     "metadata": {},
     "output_type": "execute_result"
    }
   ],
   "source": [
    "pwd"
   ]
  },
  {
   "cell_type": "markdown",
   "id": "07698fc5",
   "metadata": {},
   "source": [
    "http://localhost:6006/"
   ]
  },
  {
   "cell_type": "markdown",
   "id": "4c3df8bf",
   "metadata": {},
   "source": [
    "# Command to run on terminal\n",
    "\n",
    "tensorboard --logdir logs\\fit "
   ]
  }
 ],
 "metadata": {
  "kernelspec": {
   "display_name": "Python 3 (ipykernel)",
   "language": "python",
   "name": "python3"
  },
  "language_info": {
   "codemirror_mode": {
    "name": "ipython",
    "version": 3
   },
   "file_extension": ".py",
   "mimetype": "text/x-python",
   "name": "python",
   "nbconvert_exporter": "python",
   "pygments_lexer": "ipython3",
   "version": "3.10.9"
  }
 },
 "nbformat": 4,
 "nbformat_minor": 5
}
